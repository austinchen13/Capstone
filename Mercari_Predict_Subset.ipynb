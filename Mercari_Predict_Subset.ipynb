{
 "cells": [
  {
   "cell_type": "code",
   "execution_count": 1,
   "id": "75ab2411-44db-4e12-bffa-b4297f2dab18",
   "metadata": {},
   "outputs": [],
   "source": [
    "import pandas as pd\n",
    "import numpy as np\n",
    "fashion_subset = pd.read_csv(\"fashion_subset.csv\")"
   ]
  },
  {
   "cell_type": "code",
   "execution_count": 2,
   "id": "b29f6614-7162-4194-954f-0492858a85ad",
   "metadata": {},
   "outputs": [
    {
     "data": {
      "text/html": [
       "<div>\n",
       "<style scoped>\n",
       "    .dataframe tbody tr th:only-of-type {\n",
       "        vertical-align: middle;\n",
       "    }\n",
       "\n",
       "    .dataframe tbody tr th {\n",
       "        vertical-align: top;\n",
       "    }\n",
       "\n",
       "    .dataframe thead th {\n",
       "        text-align: right;\n",
       "    }\n",
       "</style>\n",
       "<table border=\"1\" class=\"dataframe\">\n",
       "  <thead>\n",
       "    <tr style=\"text-align: right;\">\n",
       "      <th></th>\n",
       "      <th>name</th>\n",
       "      <th>item_condition_id</th>\n",
       "      <th>category_name</th>\n",
       "      <th>brand_name</th>\n",
       "      <th>price</th>\n",
       "      <th>shipping</th>\n",
       "      <th>item_description</th>\n",
       "      <th>tokenized_text_title</th>\n",
       "      <th>tokenized_text_description</th>\n",
       "    </tr>\n",
       "  </thead>\n",
       "  <tbody>\n",
       "    <tr>\n",
       "      <th>0</th>\n",
       "      <td>MLB Cincinnati Reds T Shirt Size XL</td>\n",
       "      <td>3</td>\n",
       "      <td>Men/Tops/T-shirts</td>\n",
       "      <td>NaN</td>\n",
       "      <td>10.0</td>\n",
       "      <td>1</td>\n",
       "      <td>No description yet</td>\n",
       "      <td>['mlb', 'cincinnati', 'reds', 't', 'shirt', 's...</td>\n",
       "      <td>['no', 'description', 'yet']</td>\n",
       "    </tr>\n",
       "    <tr>\n",
       "      <th>1</th>\n",
       "      <td>AVA-VIV Blouse</td>\n",
       "      <td>1</td>\n",
       "      <td>Women/Tops &amp; Blouses/Blouse</td>\n",
       "      <td>Target</td>\n",
       "      <td>10.0</td>\n",
       "      <td>1</td>\n",
       "      <td>Adorable top with a hint of lace and a key hol...</td>\n",
       "      <td>['ava-viv', 'blouse']</td>\n",
       "      <td>['adorable', 'top', 'with', 'a', 'hint', 'of',...</td>\n",
       "    </tr>\n",
       "    <tr>\n",
       "      <th>2</th>\n",
       "      <td>24K GOLD plated rose</td>\n",
       "      <td>1</td>\n",
       "      <td>Women/Jewelry/Necklaces</td>\n",
       "      <td>NaN</td>\n",
       "      <td>44.0</td>\n",
       "      <td>0</td>\n",
       "      <td>Complete with certificate of authenticity</td>\n",
       "      <td>['24k', 'gold', 'plated', 'rose']</td>\n",
       "      <td>['complete', 'with', 'certificate', 'of', 'aut...</td>\n",
       "    </tr>\n",
       "    <tr>\n",
       "      <th>3</th>\n",
       "      <td>Bundled items requested for Ruie</td>\n",
       "      <td>3</td>\n",
       "      <td>Women/Other/Other</td>\n",
       "      <td>NaN</td>\n",
       "      <td>59.0</td>\n",
       "      <td>0</td>\n",
       "      <td>Banana republic bottoms, Candies skirt with ma...</td>\n",
       "      <td>['bundled', 'items', 'requested', 'for', 'ruie']</td>\n",
       "      <td>['banana', 'republic', 'bottoms', ',', 'candie...</td>\n",
       "    </tr>\n",
       "    <tr>\n",
       "      <th>4</th>\n",
       "      <td>Acacia pacific tides santorini top</td>\n",
       "      <td>3</td>\n",
       "      <td>Women/Swimwear/Two-Piece</td>\n",
       "      <td>Acacia Swimwear</td>\n",
       "      <td>64.0</td>\n",
       "      <td>0</td>\n",
       "      <td>Size small but straps slightly shortened to fi...</td>\n",
       "      <td>['acacia', 'pacific', 'tides', 'santorini', 't...</td>\n",
       "      <td>['size', 'small', 'but', 'straps', 'slightly',...</td>\n",
       "    </tr>\n",
       "  </tbody>\n",
       "</table>\n",
       "</div>"
      ],
      "text/plain": [
       "                                  name  item_condition_id  \\\n",
       "0  MLB Cincinnati Reds T Shirt Size XL                  3   \n",
       "1                       AVA-VIV Blouse                  1   \n",
       "2                 24K GOLD plated rose                  1   \n",
       "3     Bundled items requested for Ruie                  3   \n",
       "4   Acacia pacific tides santorini top                  3   \n",
       "\n",
       "                 category_name       brand_name  price  shipping  \\\n",
       "0            Men/Tops/T-shirts              NaN   10.0         1   \n",
       "1  Women/Tops & Blouses/Blouse           Target   10.0         1   \n",
       "2      Women/Jewelry/Necklaces              NaN   44.0         0   \n",
       "3            Women/Other/Other              NaN   59.0         0   \n",
       "4     Women/Swimwear/Two-Piece  Acacia Swimwear   64.0         0   \n",
       "\n",
       "                                    item_description  \\\n",
       "0                                 No description yet   \n",
       "1  Adorable top with a hint of lace and a key hol...   \n",
       "2          Complete with certificate of authenticity   \n",
       "3  Banana republic bottoms, Candies skirt with ma...   \n",
       "4  Size small but straps slightly shortened to fi...   \n",
       "\n",
       "                                tokenized_text_title  \\\n",
       "0  ['mlb', 'cincinnati', 'reds', 't', 'shirt', 's...   \n",
       "1                              ['ava-viv', 'blouse']   \n",
       "2                  ['24k', 'gold', 'plated', 'rose']   \n",
       "3   ['bundled', 'items', 'requested', 'for', 'ruie']   \n",
       "4  ['acacia', 'pacific', 'tides', 'santorini', 't...   \n",
       "\n",
       "                          tokenized_text_description  \n",
       "0                       ['no', 'description', 'yet']  \n",
       "1  ['adorable', 'top', 'with', 'a', 'hint', 'of',...  \n",
       "2  ['complete', 'with', 'certificate', 'of', 'aut...  \n",
       "3  ['banana', 'republic', 'bottoms', ',', 'candie...  \n",
       "4  ['size', 'small', 'but', 'straps', 'slightly',...  "
      ]
     },
     "execution_count": 2,
     "metadata": {},
     "output_type": "execute_result"
    }
   ],
   "source": [
    "fashion_subset.head()"
   ]
  },
  {
   "cell_type": "code",
   "execution_count": 3,
   "id": "8bc09a07-5c99-46ad-a6e7-35bd8b681ff0",
   "metadata": {},
   "outputs": [],
   "source": [
    "# One-Hot Encoding using pandas\n",
    "from sklearn.preprocessing import LabelEncoder\n",
    "label_encoder = LabelEncoder()\n",
    "fashion_subset['category_label'] = label_encoder.fit_transform(fashion_subset['category_name'])\n",
    "fashion_subset['brand_name_label'] = label_encoder.fit_transform(fashion_subset['brand_name'])"
   ]
  },
  {
   "cell_type": "code",
   "execution_count": 4,
   "id": "85118a38-d201-4beb-b901-473a35f370aa",
   "metadata": {},
   "outputs": [],
   "source": [
    "#fashion_subset['category_name']= fashion_subset['category_name'].astype('category').cat.codes"
   ]
  },
  {
   "cell_type": "code",
   "execution_count": 5,
   "id": "213e6286-7a4d-4425-8e3a-4d25dd358001",
   "metadata": {},
   "outputs": [],
   "source": [
    "#fashion_subset['brand_name']= fashion_subset['brand_name'].astype('category').cat.codes"
   ]
  },
  {
   "cell_type": "code",
   "execution_count": 6,
   "id": "449fdb0d-8387-4efb-aea7-718e771c9539",
   "metadata": {},
   "outputs": [],
   "source": [
    "#fashion_corr_df = fashion_subset.iloc[:,1:6]"
   ]
  },
  {
   "cell_type": "code",
   "execution_count": 7,
   "id": "5e6ab881-11c2-4831-80aa-e357b97904c2",
   "metadata": {},
   "outputs": [],
   "source": [
    "#fashion_corr_df.corr()"
   ]
  },
  {
   "cell_type": "code",
   "execution_count": 8,
   "id": "1f1c537e-4659-4b37-bf42-05ecc055dd0e",
   "metadata": {},
   "outputs": [],
   "source": [
    "condition_price = fashion_subset.groupby(['category_name', 'item_condition_id'])['price'].mean().reset_index()"
   ]
  },
  {
   "cell_type": "code",
   "execution_count": 9,
   "id": "c5b77bcb-5c28-43a4-98ed-f8730fb8694a",
   "metadata": {},
   "outputs": [],
   "source": [
    "top_10_cats = fashion_subset.groupby(['category_name'])['price'].count().sort_values(ascending = False).head(10).reset_index()"
   ]
  },
  {
   "cell_type": "code",
   "execution_count": 10,
   "id": "f1aa77a5-8fde-42aa-b700-62a0fe17a277",
   "metadata": {},
   "outputs": [
    {
     "data": {
      "text/html": [
       "<div>\n",
       "<style scoped>\n",
       "    .dataframe tbody tr th:only-of-type {\n",
       "        vertical-align: middle;\n",
       "    }\n",
       "\n",
       "    .dataframe tbody tr th {\n",
       "        vertical-align: top;\n",
       "    }\n",
       "\n",
       "    .dataframe thead th {\n",
       "        text-align: right;\n",
       "    }\n",
       "</style>\n",
       "<table border=\"1\" class=\"dataframe\">\n",
       "  <thead>\n",
       "    <tr style=\"text-align: right;\">\n",
       "      <th></th>\n",
       "      <th>category_name</th>\n",
       "      <th>price</th>\n",
       "    </tr>\n",
       "  </thead>\n",
       "  <tbody>\n",
       "    <tr>\n",
       "      <th>0</th>\n",
       "      <td>Women/Athletic Apparel/Pants, Tights, Leggings</td>\n",
       "      <td>60177</td>\n",
       "    </tr>\n",
       "    <tr>\n",
       "      <th>1</th>\n",
       "      <td>Women/Tops &amp; Blouses/T-Shirts</td>\n",
       "      <td>46380</td>\n",
       "    </tr>\n",
       "    <tr>\n",
       "      <th>2</th>\n",
       "      <td>Women/Underwear/Bras</td>\n",
       "      <td>21274</td>\n",
       "    </tr>\n",
       "    <tr>\n",
       "      <th>3</th>\n",
       "      <td>Women/Tops &amp; Blouses/Tank, Cami</td>\n",
       "      <td>20284</td>\n",
       "    </tr>\n",
       "    <tr>\n",
       "      <th>4</th>\n",
       "      <td>Women/Tops &amp; Blouses/Blouse</td>\n",
       "      <td>20284</td>\n",
       "    </tr>\n",
       "    <tr>\n",
       "      <th>5</th>\n",
       "      <td>Women/Dresses/Above Knee, Mini</td>\n",
       "      <td>20082</td>\n",
       "    </tr>\n",
       "    <tr>\n",
       "      <th>6</th>\n",
       "      <td>Women/Jewelry/Necklaces</td>\n",
       "      <td>19758</td>\n",
       "    </tr>\n",
       "    <tr>\n",
       "      <th>7</th>\n",
       "      <td>Women/Athletic Apparel/Shorts</td>\n",
       "      <td>19528</td>\n",
       "    </tr>\n",
       "    <tr>\n",
       "      <th>8</th>\n",
       "      <td>Women/Shoes/Boots</td>\n",
       "      <td>18864</td>\n",
       "    </tr>\n",
       "    <tr>\n",
       "      <th>9</th>\n",
       "      <td>Beauty/Fragrance/Women</td>\n",
       "      <td>18628</td>\n",
       "    </tr>\n",
       "  </tbody>\n",
       "</table>\n",
       "</div>"
      ],
      "text/plain": [
       "                                    category_name  price\n",
       "0  Women/Athletic Apparel/Pants, Tights, Leggings  60177\n",
       "1                   Women/Tops & Blouses/T-Shirts  46380\n",
       "2                            Women/Underwear/Bras  21274\n",
       "3                 Women/Tops & Blouses/Tank, Cami  20284\n",
       "4                     Women/Tops & Blouses/Blouse  20284\n",
       "5                  Women/Dresses/Above Knee, Mini  20082\n",
       "6                         Women/Jewelry/Necklaces  19758\n",
       "7                   Women/Athletic Apparel/Shorts  19528\n",
       "8                               Women/Shoes/Boots  18864\n",
       "9                          Beauty/Fragrance/Women  18628"
      ]
     },
     "execution_count": 10,
     "metadata": {},
     "output_type": "execute_result"
    }
   ],
   "source": [
    "top_10_cats"
   ]
  },
  {
   "cell_type": "code",
   "execution_count": 11,
   "id": "1fc3fa26-8b75-485f-8960-26f60e94e00d",
   "metadata": {},
   "outputs": [],
   "source": [
    "condition_price_subset = condition_price[condition_price['category_name'].isin(list(top_10_cats['category_name']))]"
   ]
  },
  {
   "cell_type": "code",
   "execution_count": 12,
   "id": "98704e4c-89bf-4ec8-83db-a6de43857f0b",
   "metadata": {},
   "outputs": [
    {
     "data": {
      "image/png": "[encoded data removed]",
      "text/plain": [
       "<Figure size 1008x576 with 1 Axes>"
      ]
     },
     "metadata": {
      "needs_background": "light"
     },
     "output_type": "display_data"
    }
   ],
   "source": [
    "# Pivot the table for better visualization\n",
    "import matplotlib.pyplot as plt\n",
    "pivot_table = condition_price_subset.pivot(index='item_condition_id', columns='category_name', values='price')\n",
    "\n",
    "# Plot the pivot table\n",
    "ax = pivot_table.plot(kind='line', marker='o', figsize=(14, 8))\n",
    "plt.xlabel('Item Condition ID')\n",
    "plt.ylabel('Mean Price')\n",
    "plt.title('Mean Price by Category and Item Condition')\n",
    "plt.grid(True)\n",
    "plt.xticks(range(1, 6))\n",
    "# Get handles and labels from the plot\n",
    "handles, labels = ax.get_legend_handles_labels()\n",
    "\n",
    "# Reorder handles and labels\n",
    "reordered_handles = [handles[i] for i in [1,7,9,8,6,3,4,2,5,0]]\n",
    "reordered_labels = [labels[i] for i in [1,7,9,8,6,3,4,2,5,0]]\n",
    "\n",
    "# Create a new legend\n",
    "plt.legend(reordered_handles, reordered_labels, title='Top 10 Most Popular Categories', bbox_to_anchor=(1.05, 1), loc='upper left')\n",
    "plt.show()"
   ]
  },
  {
   "cell_type": "code",
   "execution_count": 13,
   "id": "9964a130-fbbe-4e47-a7ac-5e3e97e4545d",
   "metadata": {},
   "outputs": [],
   "source": [
    "# Preprocess your text data (tokenization, lowercase, etc.) if necessary\n",
    "from scipy.sparse import hstack\n",
    "from sklearn.model_selection import train_test_split\n",
    "X_train, X_test, y_train, y_test = train_test_split(fashion_subset.drop('price', axis=1), fashion_subset['price'], test_size=0.2, random_state=42)"
   ]
  },
  {
   "cell_type": "code",
   "execution_count": 14,
   "id": "90be8af0-3eb3-46b7-84a6-6168ddad9b69",
   "metadata": {},
   "outputs": [],
   "source": [
    "# Preprocess your text data (tokenization, lowercase, etc.) if necessary\n",
    "from scipy.sparse import hstack\n",
    "from sklearn.model_selection import train_test_split\n",
    "import numpy as np\n",
    "from sklearn.feature_extraction.text import TfidfVectorizer\n",
    "from sklearn.cluster import KMeans\n",
    "from sklearn.cluster import MiniBatchKMeans \n",
    "from sklearn.decomposition import PCA\n",
    "import matplotlib.pyplot as plt\n",
    "import seaborn as sns\n",
    "# TF-IDF Vectorization\n",
    "name_vectorizer = TfidfVectorizer(stop_words='english', max_features=1000)\n",
    "item_description_vectorizer = TfidfVectorizer(stop_words='english', max_features=1000)\n",
    "X_train['item_description'].fillna('', inplace=True)\n",
    "name_matrix = name_vectorizer.fit_transform(X_train['name'])\n",
    "item_description_matrix = item_description_vectorizer.fit_transform(X_train['item_description'])\n",
    "\n",
    "# Convert other features to a matrix (assuming feature1 is a numerical feature)\n",
    "other_features = X_train[['item_condition_id', 'shipping', 'category_label', 'brand_name_label']].values\n",
    "\n",
    "# Combine TF-IDF vectors with other features\n",
    "X_train_stack = hstack([name_matrix, item_description_matrix, other_features])"
   ]
  },
  {
   "cell_type": "code",
   "execution_count": 15,
   "id": "ce1de053-e0f5-4dba-b8ff-8e6927c35568",
   "metadata": {},
   "outputs": [],
   "source": [
    "import numpy as np\n",
    "from sklearn.feature_extraction.text import TfidfVectorizer\n",
    "from sklearn.cluster import KMeans\n",
    "from sklearn.cluster import MiniBatchKMeans \n",
    "from sklearn.decomposition import PCA\n",
    "import matplotlib.pyplot as plt\n",
    "import seaborn as sns\n",
    "kmeans = MiniBatchKMeans(n_clusters=100, random_state=42, batch_size=164, max_iter=100)\n",
    "kmeans.fit(X_train_stack)\n",
    "y_pred = kmeans.predict(X_train_stack)"
   ]
  },
  {
   "cell_type": "code",
   "execution_count": 16,
   "id": "2b932e17-dea7-47c0-b65f-a1ae838a21b1",
   "metadata": {},
   "outputs": [],
   "source": [
    "y_train = pd.DataFrame(y_train)"
   ]
  },
  {
   "cell_type": "code",
   "execution_count": 17,
   "id": "ec340d6a-a0dc-43af-be23-fb831be95d4a",
   "metadata": {},
   "outputs": [],
   "source": [
    "y_train['Cluster'] = y_pred"
   ]
  },
  {
   "cell_type": "code",
   "execution_count": 18,
   "id": "a67ae1d4-654c-4721-80e9-297cec1ef3b5",
   "metadata": {},
   "outputs": [
    {
     "data": {
      "image/png": "[encoded data removed]",
      "text/plain": [
       "<Figure size 720x432 with 1 Axes>"
      ]
     },
     "metadata": {
      "needs_background": "light"
     },
     "output_type": "display_data"
    }
   ],
   "source": [
    "import pandas as pd\n",
    "import numpy as np\n",
    "import matplotlib.pyplot as plt\n",
    "\n",
    "grouped_data = y_train.groupby('Cluster')\n",
    "\n",
    "# Create lists to store quantiles\n",
    "clusters = []\n",
    "quantile_25 = []\n",
    "quantile_75 = []\n",
    "\n",
    "# Calculate 25% and 75% quantiles for each cluster\n",
    "for cluster, cluster_data in grouped_data:\n",
    "    # Calculate 25% and 75% quantiles\n",
    "    q25 = cluster_data['price'].quantile(0.20)\n",
    "    q75 = cluster_data['price'].quantile(0.80)\n",
    "    \n",
    "    # Append data to lists\n",
    "    clusters.append(cluster)\n",
    "    quantile_25.append(q25)\n",
    "    quantile_75.append(q75)\n",
    "\n",
    "# Create a line plot showing the range (25% to 75% quantiles) for each cluster\n",
    "plt.figure(figsize=(10, 6))\n",
    "for i in range(len(clusters)):\n",
    "    plt.plot([clusters[i], clusters[i]], [quantile_25[i], quantile_75[i]], color='black')\n",
    "    plt.scatter([clusters[i], clusters[i]], [quantile_25[i], quantile_75[i]], color='blue')  # Mark the quantiles with points\n",
    "plt.xlabel('Cluster')\n",
    "plt.ylabel('Price')\n",
    "plt.title('Range Between 20% and 80% Quantiles for Each Cluster')\n",
    "plt.grid(True)\n",
    "plt.show()\n"
   ]
  },
  {
   "cell_type": "code",
   "execution_count": 19,
   "id": "bfcdaa0f-22a0-406f-91ba-588dd73d3e77",
   "metadata": {},
   "outputs": [],
   "source": [
    "grouped_data = y_train.groupby('Cluster')\n",
    "cluster_quantile_dict = {}\n",
    "# Iterate through clusters and print quantile ranges\n",
    "for cluster, cluster_data in grouped_data:\n",
    "    # Calculate 25% and 75% quantiles of 'price' for the current cluster\n",
    "    q20 = cluster_data['price'].quantile(0.20)\n",
    "    q80 = cluster_data['price'].quantile(0.80)\n",
    "    cluster_quantile_dict[cluster] = (q20, q80)"
   ]
  },
  {
   "cell_type": "code",
   "execution_count": 20,
   "id": "8df3f169-00b9-4893-a2d8-673148ac5f8f",
   "metadata": {},
   "outputs": [],
   "source": [
    "# Preprocess your text data (tokenization, lowercase, etc.) if necessary\n",
    "from scipy.sparse import hstack\n",
    "from sklearn.model_selection import train_test_split\n",
    "import numpy as np\n",
    "from sklearn.feature_extraction.text import TfidfVectorizer\n",
    "from sklearn.cluster import KMeans\n",
    "from sklearn.cluster import MiniBatchKMeans \n",
    "from sklearn.decomposition import PCA\n",
    "import matplotlib.pyplot as plt\n",
    "import seaborn as sns\n",
    "# TF-IDF Vectorization\n",
    "X_test['item_description'].fillna('', inplace=True)\n",
    "name_matrix = name_vectorizer.transform(X_test['name'])\n",
    "item_description_matrix = item_description_vectorizer.transform(X_test['item_description'])\n",
    "\n",
    "# Convert other features to a matrix (assuming feature1 is a numerical feature)\n",
    "other_features = X_test[['item_condition_id', 'shipping', 'category_label', 'brand_name_label']].values\n",
    "\n",
    "# Combine TF-IDF vectors with other features\n",
    "X_test_stack = hstack([name_matrix, item_description_matrix, other_features])"
   ]
  },
  {
   "cell_type": "code",
   "execution_count": 21,
   "id": "73270071-05c9-4689-8161-2aa51d298e5d",
   "metadata": {},
   "outputs": [],
   "source": [
    "y_pred = kmeans.predict(X_test_stack)"
   ]
  },
  {
   "cell_type": "code",
   "execution_count": 22,
   "id": "648420cc-401e-4d98-9d77-2070ae675836",
   "metadata": {},
   "outputs": [],
   "source": [
    "y_test = pd.DataFrame(y_test)\n",
    "y_test['Cluster'] = y_pred"
   ]
  },
  {
   "cell_type": "code",
   "execution_count": 35,
   "id": "1b04352a-6ef2-4e4e-99cd-10cc28ca0185",
   "metadata": {},
   "outputs": [
    {
     "ename": "TypeError",
     "evalue": "add_range() got an unexpected keyword argument 'axis'",
     "output_type": "error",
     "traceback": [
      "\u001b[0;31m---------------------------------------------------------------------------\u001b[0m",
      "\u001b[0;31mTypeError\u001b[0m                                 Traceback (most recent call last)",
      "\u001b[0;32m<ipython-input-35-8693ce1b25cc>\u001b[0m in \u001b[0;36m<module>\u001b[0;34m\u001b[0m\n\u001b[1;32m      2\u001b[0m     \u001b[0mcluster\u001b[0m \u001b[0;34m=\u001b[0m \u001b[0mint\u001b[0m\u001b[0;34m(\u001b[0m\u001b[0mrow\u001b[0m\u001b[0;34m[\u001b[0m\u001b[0;34m'Cluster'\u001b[0m\u001b[0;34m]\u001b[0m\u001b[0;34m)\u001b[0m\u001b[0;34m\u001b[0m\u001b[0;34m\u001b[0m\u001b[0m\n\u001b[1;32m      3\u001b[0m     \u001b[0;32mreturn\u001b[0m \u001b[0mcluster_quantile_dict\u001b[0m\u001b[0;34m[\u001b[0m\u001b[0mcluster\u001b[0m\u001b[0;34m]\u001b[0m\u001b[0;34m\u001b[0m\u001b[0;34m\u001b[0m\u001b[0m\n\u001b[0;32m----> 4\u001b[0;31m \u001b[0my_test\u001b[0m\u001b[0;34m[\u001b[0m\u001b[0;34m'Range'\u001b[0m\u001b[0;34m]\u001b[0m \u001b[0;34m=\u001b[0m \u001b[0my_test\u001b[0m\u001b[0;34m.\u001b[0m\u001b[0mapply\u001b[0m\u001b[0;34m(\u001b[0m\u001b[0madd_range\u001b[0m\u001b[0;34m,\u001b[0m \u001b[0maxis\u001b[0m \u001b[0;34m=\u001b[0m \u001b[0;36m1\u001b[0m\u001b[0;34m)\u001b[0m\u001b[0;34m\u001b[0m\u001b[0;34m\u001b[0m\u001b[0m\n\u001b[0m",
      "\u001b[0;32m/opt/anaconda3/lib/python3.8/site-packages/pandas/core/series.py\u001b[0m in \u001b[0;36mapply\u001b[0;34m(self, func, convert_dtype, args, **kwds)\u001b[0m\n\u001b[1;32m   4136\u001b[0m             \u001b[0;32melse\u001b[0m\u001b[0;34m:\u001b[0m\u001b[0;34m\u001b[0m\u001b[0;34m\u001b[0m\u001b[0m\n\u001b[1;32m   4137\u001b[0m                 \u001b[0mvalues\u001b[0m \u001b[0;34m=\u001b[0m \u001b[0mself\u001b[0m\u001b[0;34m.\u001b[0m\u001b[0mastype\u001b[0m\u001b[0;34m(\u001b[0m\u001b[0mobject\u001b[0m\u001b[0;34m)\u001b[0m\u001b[0;34m.\u001b[0m\u001b[0m_values\u001b[0m\u001b[0;34m\u001b[0m\u001b[0;34m\u001b[0m\u001b[0m\n\u001b[0;32m-> 4138\u001b[0;31m                 \u001b[0mmapped\u001b[0m \u001b[0;34m=\u001b[0m \u001b[0mlib\u001b[0m\u001b[0;34m.\u001b[0m\u001b[0mmap_infer\u001b[0m\u001b[0;34m(\u001b[0m\u001b[0mvalues\u001b[0m\u001b[0;34m,\u001b[0m \u001b[0mf\u001b[0m\u001b[0;34m,\u001b[0m \u001b[0mconvert\u001b[0m\u001b[0;34m=\u001b[0m\u001b[0mconvert_dtype\u001b[0m\u001b[0;34m)\u001b[0m\u001b[0;34m\u001b[0m\u001b[0;34m\u001b[0m\u001b[0m\n\u001b[0m\u001b[1;32m   4139\u001b[0m \u001b[0;34m\u001b[0m\u001b[0m\n\u001b[1;32m   4140\u001b[0m         \u001b[0;32mif\u001b[0m \u001b[0mlen\u001b[0m\u001b[0;34m(\u001b[0m\u001b[0mmapped\u001b[0m\u001b[0;34m)\u001b[0m \u001b[0;32mand\u001b[0m \u001b[0misinstance\u001b[0m\u001b[0;34m(\u001b[0m\u001b[0mmapped\u001b[0m\u001b[0;34m[\u001b[0m\u001b[0;36m0\u001b[0m\u001b[0;34m]\u001b[0m\u001b[0;34m,\u001b[0m \u001b[0mSeries\u001b[0m\u001b[0;34m)\u001b[0m\u001b[0;34m:\u001b[0m\u001b[0;34m\u001b[0m\u001b[0;34m\u001b[0m\u001b[0m\n",
      "\u001b[0;32mpandas/_libs/lib.pyx\u001b[0m in \u001b[0;36mpandas._libs.lib.map_infer\u001b[0;34m()\u001b[0m\n",
      "\u001b[0;32m/opt/anaconda3/lib/python3.8/site-packages/pandas/core/series.py\u001b[0m in \u001b[0;36mf\u001b[0;34m(x)\u001b[0m\n\u001b[1;32m   4121\u001b[0m \u001b[0;34m\u001b[0m\u001b[0m\n\u001b[1;32m   4122\u001b[0m             \u001b[0;32mdef\u001b[0m \u001b[0mf\u001b[0m\u001b[0;34m(\u001b[0m\u001b[0mx\u001b[0m\u001b[0;34m)\u001b[0m\u001b[0;34m:\u001b[0m\u001b[0;34m\u001b[0m\u001b[0;34m\u001b[0m\u001b[0m\n\u001b[0;32m-> 4123\u001b[0;31m                 \u001b[0;32mreturn\u001b[0m \u001b[0mfunc\u001b[0m\u001b[0;34m(\u001b[0m\u001b[0mx\u001b[0m\u001b[0;34m,\u001b[0m \u001b[0;34m*\u001b[0m\u001b[0margs\u001b[0m\u001b[0;34m,\u001b[0m \u001b[0;34m**\u001b[0m\u001b[0mkwds\u001b[0m\u001b[0;34m)\u001b[0m\u001b[0;34m\u001b[0m\u001b[0;34m\u001b[0m\u001b[0m\n\u001b[0m\u001b[1;32m   4124\u001b[0m \u001b[0;34m\u001b[0m\u001b[0m\n\u001b[1;32m   4125\u001b[0m         \u001b[0;32melse\u001b[0m\u001b[0;34m:\u001b[0m\u001b[0;34m\u001b[0m\u001b[0;34m\u001b[0m\u001b[0m\n",
      "\u001b[0;31mTypeError\u001b[0m: add_range() got an unexpected keyword argument 'axis'"
     ]
    }
   ],
   "source": [
    "def add_range(row):\n",
    "    cluster = int(row['Cluster'])\n",
    "    return cluster_quantile_dict[cluster]\n",
    "y_test['Range'] = y_test.apply(add_range, axis = 1)"
   ]
  },
  {
   "cell_type": "code",
   "execution_count": 24,
   "id": "1a53f6d6-96c7-4df1-ac4e-29cd7d14f2ae",
   "metadata": {},
   "outputs": [],
   "source": [
    "def add_midpoint(row):\n",
    "    cluster = int(row['Cluster'])\n",
    "    middle_range = (cluster_quantile_dict[cluster][0] + cluster_quantile_dict[cluster][1])/2\n",
    "    return middle_range\n",
    "y_test['Midpoint'] = y_test.apply(add_midpoint, axis = 1)"
   ]
  },
  {
   "cell_type": "code",
   "execution_count": 25,
   "id": "d6cd7dc6-b68b-46c8-8f64-68eb932690c3",
   "metadata": {},
   "outputs": [
    {
     "name": "stdout",
     "output_type": "stream",
     "text": [
      "RLMSE: 0.6831566612995345\n"
     ]
    }
   ],
   "source": [
    "# Function to calculate RLMSE\n",
    "def calculate_rlmse(y_true, y_pred):\n",
    "    \"\"\"\n",
    "    Calculate Root Mean Squared Logarithmic Error (RLMSE).\n",
    "    \n",
    "    Args:\n",
    "    - y_true: array-like, true values\n",
    "    - y_pred: array-like, predicted values\n",
    "    \n",
    "    Returns:\n",
    "    - RLMSE\n",
    "    \"\"\"\n",
    "    # Convert to numpy arrays\n",
    "    y_true = np.array(y_true)\n",
    "    y_pred = np.array(y_pred)\n",
    "    \n",
    "    # Ensure non-negative values\n",
    "    y_true = np.maximum(0, y_true)\n",
    "    y_pred = np.maximum(0, y_pred)\n",
    "    \n",
    "    # Calculate log of true and predicted values\n",
    "    log_y_true = np.log1p(y_true)\n",
    "    log_y_pred = np.log1p(y_pred)\n",
    "    \n",
    "    # Calculate squared differences\n",
    "    squared_diff = (log_y_true - log_y_pred) ** 2\n",
    "    \n",
    "    # Calculate mean squared error\n",
    "    mean_squared_error = np.mean(squared_diff)\n",
    "    \n",
    "    # Calculate RLMSE\n",
    "    rlmse = np.sqrt(mean_squared_error)\n",
    "    \n",
    "    return rlmse\n",
    "\n",
    "# Example usage\n",
    "# Assuming df is your DataFrame and 'actual_column' and 'predicted_column' are the column names\n",
    "# Replace 'actual_column' and 'predicted_column' with your actual column names\n",
    "actual_values = y_test['price']\n",
    "predicted_values = y_test['Midpoint']\n",
    "\n",
    "rlmse = calculate_rlmse(actual_values, predicted_values)\n",
    "print(\"RLMSE:\", rlmse)"
   ]
  },
  {
   "cell_type": "code",
   "execution_count": 27,
   "id": "d7d6efb6-133d-4bdb-9e7c-bee7e375631a",
   "metadata": {},
   "outputs": [
    {
     "name": "stdout",
     "output_type": "stream",
     "text": [
      "RLMSE: 0.645624851180596\n"
     ]
    }
   ],
   "source": [
    "# Testing Model parameters\n",
    "# 0.63 accuracy currently\n",
    "\n",
    "# Training data\n",
    "kmeans = MiniBatchKMeans(n_clusters=250, random_state=42, batch_size=164, max_iter=100)\n",
    "kmeans.fit(X_train_stack)\n",
    "y_train = pd.DataFrame(y_train)\n",
    "y_pred = kmeans.predict(X_train_stack)\n",
    "y_train['Cluster'] = y_pred\n",
    "\n",
    "grouped_data = y_train.groupby('Cluster')\n",
    "cluster_quantile_dict = {}\n",
    "# Iterate through clusters and print quantile ranges\n",
    "for cluster, cluster_data in grouped_data:\n",
    "    # Calculate 25% and 75% quantiles of 'price' for the current cluster\n",
    "    q20 = cluster_data['price'].quantile(0.20)\n",
    "    q80 = cluster_data['price'].quantile(0.80)\n",
    "    cluster_quantile_dict[cluster] = (q20, q80)\n",
    "\n",
    "y_pred = kmeans.predict(X_test_stack)\n",
    "y_test['Cluster'] = y_pred\n",
    "y_test['Range'] = y_test.apply(add_range, axis = 1)\n",
    "y_test['Midpoint'] = y_test.apply(add_midpoint, axis = 1)\n",
    "actual_values = y_test['price']\n",
    "predicted_values = y_test['Midpoint']\n",
    "\n",
    "rlmse = calculate_rlmse(actual_values, predicted_values)\n",
    "print(\"RLMSE:\", rlmse)\n",
    "    \n"
   ]
  },
  {
   "cell_type": "code",
   "execution_count": 28,
   "id": "98251338-577f-4323-9a8d-84b4ce670e7c",
   "metadata": {},
   "outputs": [
    {
     "name": "stdout",
     "output_type": "stream",
     "text": [
      "RLMSE: 0.6241809399394987\n"
     ]
    }
   ],
   "source": [
    "# Testing Model parameters\n",
    "# 0.63 accuracy currently\n",
    "\n",
    "# Training data\n",
    "kmeans = MiniBatchKMeans(n_clusters=500, random_state=42, batch_size=164, max_iter=100)\n",
    "kmeans.fit(X_train_stack)\n",
    "y_train = pd.DataFrame(y_train)\n",
    "y_pred = kmeans.predict(X_train_stack)\n",
    "y_train['Cluster'] = y_pred\n",
    "\n",
    "grouped_data = y_train.groupby('Cluster')\n",
    "cluster_quantile_dict = {}\n",
    "# Iterate through clusters and print quantile ranges\n",
    "for cluster, cluster_data in grouped_data:\n",
    "    # Calculate 25% and 75% quantiles of 'price' for the current cluster\n",
    "    q20 = cluster_data['price'].quantile(0.20)\n",
    "    q80 = cluster_data['price'].quantile(0.80)\n",
    "    cluster_quantile_dict[cluster] = (q20, q80)\n",
    "\n",
    "y_pred = kmeans.predict(X_test_stack)\n",
    "y_test['Cluster'] = y_pred\n",
    "y_test['Range'] = y_test.apply(add_range, axis = 1)\n",
    "y_test['Midpoint'] = y_test.apply(add_midpoint, axis = 1)\n",
    "actual_values = y_test['price']\n",
    "predicted_values = y_test['Midpoint']\n",
    "\n",
    "rlmse = calculate_rlmse(actual_values, predicted_values)\n",
    "print(\"RLMSE:\", rlmse)\n",
    "    \n"
   ]
  },
  {
   "cell_type": "code",
   "execution_count": 29,
   "id": "0ffbd701-f377-490c-967f-101f3d8d4d2b",
   "metadata": {},
   "outputs": [
    {
     "name": "stdout",
     "output_type": "stream",
     "text": [
      "RLMSE: 0.6164430170884618\n"
     ]
    }
   ],
   "source": [
    "# Testing Model parameters\n",
    "# 0.63 accuracy currently\n",
    "\n",
    "# Training data\n",
    "kmeans = MiniBatchKMeans(n_clusters=500, random_state=42, batch_size=256, max_iter=100)\n",
    "kmeans.fit(X_train_stack)\n",
    "y_train = pd.DataFrame(y_train)\n",
    "y_pred = kmeans.predict(X_train_stack)\n",
    "y_train['Cluster'] = y_pred\n",
    "\n",
    "grouped_data = y_train.groupby('Cluster')\n",
    "cluster_quantile_dict = {}\n",
    "# Iterate through clusters and print quantile ranges\n",
    "for cluster, cluster_data in grouped_data:\n",
    "    # Calculate 25% and 75% quantiles of 'price' for the current cluster\n",
    "    q20 = cluster_data['price'].quantile(0.20)\n",
    "    q80 = cluster_data['price'].quantile(0.80)\n",
    "    cluster_quantile_dict[cluster] = (q20, q80)\n",
    "\n",
    "y_pred = kmeans.predict(X_test_stack)\n",
    "y_test['Cluster'] = y_pred\n",
    "y_test['Range'] = y_test.apply(add_range, axis = 1)\n",
    "y_test['Midpoint'] = y_test.apply(add_midpoint, axis = 1)\n",
    "actual_values = y_test['price']\n",
    "predicted_values = y_test['Midpoint']\n",
    "\n",
    "rlmse = calculate_rlmse(actual_values, predicted_values)\n",
    "print(\"RLMSE:\", rlmse)"
   ]
  },
  {
   "cell_type": "code",
   "execution_count": 30,
   "id": "815c5655-27b0-4b35-9459-40603da1d4c3",
   "metadata": {},
   "outputs": [
    {
     "name": "stdout",
     "output_type": "stream",
     "text": [
      "RLMSE: 0.6185215923455587\n"
     ]
    }
   ],
   "source": [
    "# Training data\n",
    "kmeans = MiniBatchKMeans(n_clusters=500, random_state=42, batch_size=84, max_iter=100)\n",
    "kmeans.fit(X_train_stack)\n",
    "y_train = pd.DataFrame(y_train)\n",
    "y_pred = kmeans.predict(X_train_stack)\n",
    "y_train['Cluster'] = y_pred\n",
    "\n",
    "grouped_data = y_train.groupby('Cluster')\n",
    "cluster_quantile_dict = {}\n",
    "# Iterate through clusters and print quantile ranges\n",
    "for cluster, cluster_data in grouped_data:\n",
    "    # Calculate 25% and 75% quantiles of 'price' for the current cluster\n",
    "    q20 = cluster_data['price'].quantile(0.20)\n",
    "    q80 = cluster_data['price'].quantile(0.80)\n",
    "    cluster_quantile_dict[cluster] = (q20, q80)\n",
    "\n",
    "y_pred = kmeans.predict(X_test_stack)\n",
    "y_test['Cluster'] = y_pred\n",
    "y_test['Range'] = y_test.apply(add_range, axis = 1)\n",
    "y_test['Midpoint'] = y_test.apply(add_midpoint, axis = 1)\n",
    "actual_values = y_test['price']\n",
    "predicted_values = y_test['Midpoint']\n",
    "\n",
    "rlmse = calculate_rlmse(actual_values, predicted_values)\n",
    "print(\"RLMSE:\", rlmse)"
   ]
  },
  {
   "cell_type": "code",
   "execution_count": 31,
   "id": "b26641eb-7505-4c15-ad46-11f8e252ba87",
   "metadata": {},
   "outputs": [
    {
     "name": "stdout",
     "output_type": "stream",
     "text": [
      "RLMSE: 0.597678751469375\n"
     ]
    }
   ],
   "source": [
    "# Training data\n",
    "kmeans = MiniBatchKMeans(n_clusters=1000, random_state=42, batch_size=84, max_iter=100)\n",
    "kmeans.fit(X_train_stack)\n",
    "y_train = pd.DataFrame(y_train)\n",
    "y_pred = kmeans.predict(X_train_stack)\n",
    "y_train['Cluster'] = y_pred\n",
    "\n",
    "grouped_data = y_train.groupby('Cluster')\n",
    "cluster_quantile_dict = {}\n",
    "# Iterate through clusters and print quantile ranges\n",
    "for cluster, cluster_data in grouped_data:\n",
    "    # Calculate 25% and 75% quantiles of 'price' for the current cluster\n",
    "    q20 = cluster_data['price'].quantile(0.20)\n",
    "    q80 = cluster_data['price'].quantile(0.80)\n",
    "    cluster_quantile_dict[cluster] = (q20, q80)\n",
    "\n",
    "y_pred = kmeans.predict(X_test_stack)\n",
    "y_test['Cluster'] = y_pred\n",
    "y_test['Range'] = y_test.apply(add_range, axis = 1)\n",
    "y_test['Midpoint'] = y_test.apply(add_midpoint, axis = 1)\n",
    "actual_values = y_test['price']\n",
    "predicted_values = y_test['Midpoint']\n",
    "\n",
    "rlmse = calculate_rlmse(actual_values, predicted_values)\n",
    "print(\"RLMSE:\", rlmse)"
   ]
  },
  {
   "cell_type": "code",
   "execution_count": 32,
   "id": "e425fce6-ed76-4b8d-8a6a-3707de13bed9",
   "metadata": {},
   "outputs": [
    {
     "name": "stdout",
     "output_type": "stream",
     "text": [
      "RLMSE: 0.5675941034894061\n"
     ]
    }
   ],
   "source": [
    "# Training data\n",
    "kmeans = MiniBatchKMeans(n_clusters=2000, random_state=42, batch_size=256, max_iter=100)\n",
    "kmeans.fit(X_train_stack)\n",
    "y_train = pd.DataFrame(y_train)\n",
    "y_pred = kmeans.predict(X_train_stack)\n",
    "y_train['Cluster'] = y_pred\n",
    "\n",
    "grouped_data = y_train.groupby('Cluster')\n",
    "cluster_quantile_dict = {}\n",
    "# Iterate through clusters and print quantile ranges\n",
    "for cluster, cluster_data in grouped_data:\n",
    "    # Calculate 25% and 75% quantiles of 'price' for the current cluster\n",
    "    q20 = cluster_data['price'].quantile(0.20)\n",
    "    q80 = cluster_data['price'].quantile(0.80)\n",
    "    cluster_quantile_dict[cluster] = (q20, q80)\n",
    "\n",
    "y_pred = kmeans.predict(X_test_stack)\n",
    "y_test['Cluster'] = y_pred\n",
    "y_test['Range'] = y_test.apply(add_range, axis = 1)\n",
    "y_test['Midpoint'] = y_test.apply(add_midpoint, axis = 1)\n",
    "actual_values = y_test['price']\n",
    "predicted_values = y_test['Midpoint']\n",
    "\n",
    "rlmse = calculate_rlmse(actual_values, predicted_values)\n",
    "print(\"RLMSE:\", rlmse)"
   ]
  },
  {
   "cell_type": "code",
   "execution_count": 33,
   "id": "364adff9-2e72-41e3-9ec1-4105accd65b6",
   "metadata": {},
   "outputs": [
    {
     "name": "stdout",
     "output_type": "stream",
     "text": [
      "RLMSE: 0.550882624198767\n"
     ]
    }
   ],
   "source": [
    "# Training data\n",
    "kmeans = MiniBatchKMeans(n_clusters=5000, random_state=42, batch_size=256, max_iter=100)\n",
    "kmeans.fit(X_train_stack)\n",
    "y_train = pd.DataFrame(y_train)\n",
    "y_pred = kmeans.predict(X_train_stack)\n",
    "y_train['Cluster'] = y_pred\n",
    "\n",
    "grouped_data = y_train.groupby('Cluster')\n",
    "cluster_quantile_dict = {}\n",
    "# Iterate through clusters and print quantile ranges\n",
    "for cluster, cluster_data in grouped_data:\n",
    "    # Calculate 25% and 75% quantiles of 'price' for the current cluster\n",
    "    q20 = cluster_data['price'].quantile(0.20)\n",
    "    q80 = cluster_data['price'].quantile(0.80)\n",
    "    cluster_quantile_dict[cluster] = (q20, q80)\n",
    "\n",
    "y_pred = kmeans.predict(X_test_stack)\n",
    "y_test['Cluster'] = y_pred\n",
    "y_test['Range'] = y_test.apply(add_range, axis = 1)\n",
    "y_test['Midpoint'] = y_test.apply(add_midpoint, axis = 1)\n",
    "actual_values = y_test['price']\n",
    "predicted_values = y_test['Midpoint']\n",
    "\n",
    "rlmse = calculate_rlmse(actual_values, predicted_values)\n",
    "print(\"RLMSE:\", rlmse)"
   ]
  },
  {
   "cell_type": "code",
   "execution_count": 26,
   "id": "84f24c9a-2469-4f9e-9701-fe9bc45f8976",
   "metadata": {},
   "outputs": [],
   "source": [
    "X = np.load(\"full_item_embeddings.npy\")"
   ]
  },
  {
   "cell_type": "code",
   "execution_count": 45,
   "id": "6d8f510e-5e8d-4952-b3da-76d68fa6de04",
   "metadata": {},
   "outputs": [],
   "source": [
    "X_train, X_test, y_train, y_test = train_test_split(X, fashion_subset['price'], test_size=0.2, random_state=42)\n",
    "X_train_stack = X_train\n",
    "X_test_stack = X_test\n",
    "y_test = pd.DataFrame(y_test)"
   ]
  },
  {
   "cell_type": "code",
   "execution_count": 31,
   "id": "39394937-edb2-4cff-bb51-fe1d232ac2fc",
   "metadata": {},
   "outputs": [
    {
     "ename": "TypeError",
     "evalue": "add_range() got an unexpected keyword argument 'axis'",
     "output_type": "error",
     "traceback": [
      "\u001b[0;31m---------------------------------------------------------------------------\u001b[0m",
      "\u001b[0;31mTypeError\u001b[0m                                 Traceback (most recent call last)",
      "\u001b[0;32m<ipython-input-31-9a112adf92dc>\u001b[0m in \u001b[0;36m<module>\u001b[0;34m\u001b[0m\n\u001b[1;32m     17\u001b[0m \u001b[0my_pred\u001b[0m \u001b[0;34m=\u001b[0m \u001b[0mkmeans\u001b[0m\u001b[0;34m.\u001b[0m\u001b[0mpredict\u001b[0m\u001b[0;34m(\u001b[0m\u001b[0mX_test_stack\u001b[0m\u001b[0;34m)\u001b[0m\u001b[0;34m\u001b[0m\u001b[0;34m\u001b[0m\u001b[0m\n\u001b[1;32m     18\u001b[0m \u001b[0my_test\u001b[0m\u001b[0;34m[\u001b[0m\u001b[0;34m'Cluster'\u001b[0m\u001b[0;34m]\u001b[0m \u001b[0;34m=\u001b[0m \u001b[0my_pred\u001b[0m\u001b[0;34m\u001b[0m\u001b[0;34m\u001b[0m\u001b[0m\n\u001b[0;32m---> 19\u001b[0;31m \u001b[0my_test\u001b[0m\u001b[0;34m[\u001b[0m\u001b[0;34m'Range'\u001b[0m\u001b[0;34m]\u001b[0m \u001b[0;34m=\u001b[0m \u001b[0my_test\u001b[0m\u001b[0;34m.\u001b[0m\u001b[0mapply\u001b[0m\u001b[0;34m(\u001b[0m\u001b[0madd_range\u001b[0m\u001b[0;34m,\u001b[0m \u001b[0maxis\u001b[0m \u001b[0;34m=\u001b[0m \u001b[0;36m1\u001b[0m\u001b[0;34m)\u001b[0m\u001b[0;34m\u001b[0m\u001b[0;34m\u001b[0m\u001b[0m\n\u001b[0m\u001b[1;32m     20\u001b[0m \u001b[0my_test\u001b[0m\u001b[0;34m[\u001b[0m\u001b[0;34m'Midpoint'\u001b[0m\u001b[0;34m]\u001b[0m \u001b[0;34m=\u001b[0m \u001b[0my_test\u001b[0m\u001b[0;34m.\u001b[0m\u001b[0mapply\u001b[0m\u001b[0;34m(\u001b[0m\u001b[0madd_midpoint\u001b[0m\u001b[0;34m,\u001b[0m \u001b[0maxis\u001b[0m \u001b[0;34m=\u001b[0m \u001b[0;36m1\u001b[0m\u001b[0;34m)\u001b[0m\u001b[0;34m\u001b[0m\u001b[0;34m\u001b[0m\u001b[0m\n\u001b[1;32m     21\u001b[0m \u001b[0mactual_values\u001b[0m \u001b[0;34m=\u001b[0m \u001b[0my_test\u001b[0m\u001b[0;34m[\u001b[0m\u001b[0;34m'price'\u001b[0m\u001b[0;34m]\u001b[0m\u001b[0;34m\u001b[0m\u001b[0;34m\u001b[0m\u001b[0m\n",
      "\u001b[0;32m/opt/anaconda3/lib/python3.8/site-packages/pandas/core/series.py\u001b[0m in \u001b[0;36mapply\u001b[0;34m(self, func, convert_dtype, args, **kwds)\u001b[0m\n\u001b[1;32m   4136\u001b[0m             \u001b[0;32melse\u001b[0m\u001b[0;34m:\u001b[0m\u001b[0;34m\u001b[0m\u001b[0;34m\u001b[0m\u001b[0m\n\u001b[1;32m   4137\u001b[0m                 \u001b[0mvalues\u001b[0m \u001b[0;34m=\u001b[0m \u001b[0mself\u001b[0m\u001b[0;34m.\u001b[0m\u001b[0mastype\u001b[0m\u001b[0;34m(\u001b[0m\u001b[0mobject\u001b[0m\u001b[0;34m)\u001b[0m\u001b[0;34m.\u001b[0m\u001b[0m_values\u001b[0m\u001b[0;34m\u001b[0m\u001b[0;34m\u001b[0m\u001b[0m\n\u001b[0;32m-> 4138\u001b[0;31m                 \u001b[0mmapped\u001b[0m \u001b[0;34m=\u001b[0m \u001b[0mlib\u001b[0m\u001b[0;34m.\u001b[0m\u001b[0mmap_infer\u001b[0m\u001b[0;34m(\u001b[0m\u001b[0mvalues\u001b[0m\u001b[0;34m,\u001b[0m \u001b[0mf\u001b[0m\u001b[0;34m,\u001b[0m \u001b[0mconvert\u001b[0m\u001b[0;34m=\u001b[0m\u001b[0mconvert_dtype\u001b[0m\u001b[0;34m)\u001b[0m\u001b[0;34m\u001b[0m\u001b[0;34m\u001b[0m\u001b[0m\n\u001b[0m\u001b[1;32m   4139\u001b[0m \u001b[0;34m\u001b[0m\u001b[0m\n\u001b[1;32m   4140\u001b[0m         \u001b[0;32mif\u001b[0m \u001b[0mlen\u001b[0m\u001b[0;34m(\u001b[0m\u001b[0mmapped\u001b[0m\u001b[0;34m)\u001b[0m \u001b[0;32mand\u001b[0m \u001b[0misinstance\u001b[0m\u001b[0;34m(\u001b[0m\u001b[0mmapped\u001b[0m\u001b[0;34m[\u001b[0m\u001b[0;36m0\u001b[0m\u001b[0;34m]\u001b[0m\u001b[0;34m,\u001b[0m \u001b[0mSeries\u001b[0m\u001b[0;34m)\u001b[0m\u001b[0;34m:\u001b[0m\u001b[0;34m\u001b[0m\u001b[0;34m\u001b[0m\u001b[0m\n",
      "\u001b[0;32mpandas/_libs/lib.pyx\u001b[0m in \u001b[0;36mpandas._libs.lib.map_infer\u001b[0;34m()\u001b[0m\n",
      "\u001b[0;32m/opt/anaconda3/lib/python3.8/site-packages/pandas/core/series.py\u001b[0m in \u001b[0;36mf\u001b[0;34m(x)\u001b[0m\n\u001b[1;32m   4121\u001b[0m \u001b[0;34m\u001b[0m\u001b[0m\n\u001b[1;32m   4122\u001b[0m             \u001b[0;32mdef\u001b[0m \u001b[0mf\u001b[0m\u001b[0;34m(\u001b[0m\u001b[0mx\u001b[0m\u001b[0;34m)\u001b[0m\u001b[0;34m:\u001b[0m\u001b[0;34m\u001b[0m\u001b[0;34m\u001b[0m\u001b[0m\n\u001b[0;32m-> 4123\u001b[0;31m                 \u001b[0;32mreturn\u001b[0m \u001b[0mfunc\u001b[0m\u001b[0;34m(\u001b[0m\u001b[0mx\u001b[0m\u001b[0;34m,\u001b[0m \u001b[0;34m*\u001b[0m\u001b[0margs\u001b[0m\u001b[0;34m,\u001b[0m \u001b[0;34m**\u001b[0m\u001b[0mkwds\u001b[0m\u001b[0;34m)\u001b[0m\u001b[0;34m\u001b[0m\u001b[0;34m\u001b[0m\u001b[0m\n\u001b[0m\u001b[1;32m   4124\u001b[0m \u001b[0;34m\u001b[0m\u001b[0m\n\u001b[1;32m   4125\u001b[0m         \u001b[0;32melse\u001b[0m\u001b[0;34m:\u001b[0m\u001b[0;34m\u001b[0m\u001b[0;34m\u001b[0m\u001b[0m\n",
      "\u001b[0;31mTypeError\u001b[0m: add_range() got an unexpected keyword argument 'axis'"
     ]
    }
   ],
   "source": [
    "# Training data\n",
    "kmeans = MiniBatchKMeans(n_clusters=5000, random_state=42, batch_size=256, max_iter=100)\n",
    "kmeans.fit(X_train_stack)\n",
    "y_train = pd.DataFrame(y_train)\n",
    "y_pred = kmeans.predict(X_train_stack)\n",
    "y_train['Cluster'] = y_pred\n",
    "\n",
    "grouped_data = y_train.groupby('Cluster')\n",
    "cluster_quantile_dict = {}\n",
    "# Iterate through clusters and print quantile ranges\n",
    "for cluster, cluster_data in grouped_data:\n",
    "    # Calculate 25% and 75% quantiles of 'price' for the current cluster\n",
    "    q20 = cluster_data['price'].quantile(0.20)\n",
    "    q80 = cluster_data['price'].quantile(0.80)\n",
    "    cluster_quantile_dict[cluster] = (q20, q80)\n",
    "\n",
    "y_pred = kmeans.predict(X_test_stack)\n",
    "y_test['Cluster'] = y_pred\n",
    "y_test['Range'] = y_test.apply(add_range, axis = 1)\n",
    "y_test['Midpoint'] = y_test.apply(add_midpoint, axis = 1)\n",
    "actual_values = y_test['price']\n",
    "predicted_values = y_test['Midpoint']\n",
    "\n",
    "rlmse = calculate_rlmse(actual_values, predicted_values)\n",
    "print(\"RLMSE:\", rlmse)"
   ]
  },
  {
   "cell_type": "code",
   "execution_count": 48,
   "id": "e3321084-3795-4e6a-9959-c339f11c565a",
   "metadata": {},
   "outputs": [
    {
     "data": {
      "text/plain": [
       "155912"
      ]
     },
     "execution_count": 48,
     "metadata": {},
     "output_type": "execute_result"
    }
   ],
   "source": [
    "len(y_pred)"
   ]
  },
  {
   "cell_type": "code",
   "execution_count": 49,
   "id": "18aea505-6132-402c-a3dc-e9bc7f8936e9",
   "metadata": {},
   "outputs": [
    {
     "data": {
      "text/plain": [
       "155912"
      ]
     },
     "execution_count": 49,
     "metadata": {},
     "output_type": "execute_result"
    }
   ],
   "source": [
    "len(y_test)"
   ]
  },
  {
   "cell_type": "code",
   "execution_count": 50,
   "id": "e76857e4-c959-4b85-ac15-1a17767dc050",
   "metadata": {},
   "outputs": [
    {
     "name": "stdout",
     "output_type": "stream",
     "text": [
      "RLMSE: 0.5215313252617204\n"
     ]
    }
   ],
   "source": [
    "y_test = pd.DataFrame(y_test)\n",
    "y_test['Cluster'] = y_pred\n",
    "y_test['Range'] = y_test.apply(add_range, axis = 1)\n",
    "y_test['Midpoint'] = y_test.apply(add_midpoint, axis = 1)\n",
    "actual_values = y_test['price']\n",
    "predicted_values = y_test['Midpoint']\n",
    "\n",
    "rlmse = calculate_rlmse(actual_values, predicted_values)\n",
    "print(\"RLMSE:\", rlmse)"
   ]
  },
  {
   "cell_type": "code",
   "execution_count": null,
   "id": "db7ff3cb-970d-45de-b5ac-0a5edb359add",
   "metadata": {},
   "outputs": [],
   "source": [
    "y_pred = kmeans.predict(X_train_stack)\n",
    "X_train['Cluster'] = y_pred"
   ]
  },
  {
   "cell_type": "code",
   "execution_count": null,
   "id": "66a72f57-ff5f-48ea-99a5-a5a04d870f69",
   "metadata": {},
   "outputs": [],
   "source": [
    "X_train[X_train['Cluster'] == 9]"
   ]
  }
 ],
 "metadata": {
  "kernelspec": {
   "display_name": "Python 3",
   "language": "python",
   "name": "python3"
  },
  "language_info": {
   "codemirror_mode": {
    "name": "ipython",
    "version": 3
   },
   "file_extension": ".py",
   "mimetype": "text/x-python",
   "name": "python",
   "nbconvert_exporter": "python",
   "pygments_lexer": "ipython3",
   "version": "3.8.8"
  }
 },
 "nbformat": 4,
 "nbformat_minor": 5
}
